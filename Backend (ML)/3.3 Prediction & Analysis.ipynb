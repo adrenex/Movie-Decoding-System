{
 "cells": [
  {
   "cell_type": "code",
   "execution_count": 1,
   "id": "03144b3f",
   "metadata": {},
   "outputs": [],
   "source": [
    "import pandas as pd\n",
    "import numpy as np\n",
    "import warnings\n",
    "warnings.filterwarnings('ignore')\n",
    "from sklearn.metrics import accuracy_score\n",
    "from sklearn.feature_extraction.text import TfidfVectorizer\n",
    "import pickle\n",
    "from random import randint\n",
    "import pandas as pd\n",
    "import numpy as np\n",
    "import warnings\n",
    "warnings.filterwarnings('ignore')\n",
    "from sklearn.model_selection import train_test_split\n",
    "from sklearn.feature_extraction.text import TfidfVectorizer\n",
    "from sklearn.svm import SVC\n",
    "from sklearn.metrics import accuracy_score\n",
    "from sklearn.naive_bayes import MultinomialNB\n",
    "import pickle"
   ]
  },
  {
   "cell_type": "code",
   "execution_count": 2,
   "id": "1725605c",
   "metadata": {},
   "outputs": [],
   "source": [
    "test = pd.read_csv('Data/cleaned.csv')"
   ]
  },
  {
   "cell_type": "code",
   "execution_count": 3,
   "id": "1198eddb",
   "metadata": {},
   "outputs": [],
   "source": [
    "x_train, x_test, y_train, y_test = train_test_split(test['Synopsis'].values, test['Genre'].values, test_size = 0.2, random_state = 0)"
   ]
  },
  {
   "cell_type": "code",
   "execution_count": 4,
   "id": "977e51d0",
   "metadata": {},
   "outputs": [],
   "source": [
    "vectorizer = TfidfVectorizer()\n",
    "f = vectorizer.fit_transform(x_train)\n",
    "ft = vectorizer.transform(x_test)"
   ]
  },
  {
   "cell_type": "code",
   "execution_count": 5,
   "id": "7556fa14",
   "metadata": {},
   "outputs": [
    {
     "name": "stdout",
     "output_type": "stream",
     "text": [
      "0.14684756584197925\n"
     ]
    }
   ],
   "source": [
    "svm_model = pickle.load(open(\"Models/model_svm.sav\", 'rb'))\n",
    "y_pred1 = svm_model.predict(ft)\n",
    "print(accuracy_score(y_test, y_pred1))"
   ]
  },
  {
   "cell_type": "code",
   "execution_count": 6,
   "id": "ea14fbee",
   "metadata": {},
   "outputs": [
    {
     "name": "stdout",
     "output_type": "stream",
     "text": [
      "Text:  ['the adventures of the half humanvampire hunter']\n",
      "Prediction:  Drama\n"
     ]
    }
   ],
   "source": [
    "index = np.random.randint(low=0, high=len(x_test))\n",
    "print(\"Text: \", x_test[index])\n",
    "print(\"Prediction: \", y_pred1[index])"
   ]
  },
  {
   "cell_type": "code",
   "execution_count": 7,
   "id": "95d00d1e",
   "metadata": {},
   "outputs": [
    {
     "name": "stdout",
     "output_type": "stream",
     "text": [
      "0.22525937749401437\n"
     ]
    }
   ],
   "source": [
    "mnb_model = pickle.load(open(\"Models/model_mnb.sav\", 'rb'))\n",
    "y_pred2 = mnb_model.predict(ft)\n",
    "print(accuracy_score(y_test, y_pred2))"
   ]
  },
  {
   "cell_type": "code",
   "execution_count": 8,
   "id": "6f997f37",
   "metadata": {},
   "outputs": [
    {
     "name": "stdout",
     "output_type": "stream",
     "text": [
      "Text:  ['after her last encounter ellen ripley crashlands on fiorina 161 a maximum security prison when a series of strange and deadly events occur shortly after her arrival ripley realizes that she has brought along an unwelcome visitor']\n",
      "Prediction Drama\n"
     ]
    }
   ],
   "source": [
    "index = np.random.randint(low=0, high=len(x_test))\n",
    "print(\"Text: \", x_test[index])\n",
    "print(\"Prediction\", y_pred2[index])"
   ]
  }
 ],
 "metadata": {
  "kernelspec": {
   "display_name": "Python 3 (ipykernel)",
   "language": "python",
   "name": "python3"
  },
  "language_info": {
   "codemirror_mode": {
    "name": "ipython",
    "version": 3
   },
   "file_extension": ".py",
   "mimetype": "text/x-python",
   "name": "python",
   "nbconvert_exporter": "python",
   "pygments_lexer": "ipython3",
   "version": "3.9.12"
  }
 },
 "nbformat": 4,
 "nbformat_minor": 5
}
