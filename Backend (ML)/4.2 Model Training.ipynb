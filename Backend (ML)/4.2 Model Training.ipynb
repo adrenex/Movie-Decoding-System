{
 "cells": [
  {
   "cell_type": "code",
   "execution_count": 1,
   "id": "7c533165",
   "metadata": {},
   "outputs": [],
   "source": [
    "#Importing all Required Libraries\n",
    "import numpy as np\n",
    "import pandas as pd\n",
    "from sklearn.model_selection import train_test_split\n",
    "from sklearn import metrics\n",
    "from sklearn.linear_model import LogisticRegression\n",
    "from sklearn.naive_bayes import MultinomialNB\n",
    "from sklearn.pipeline import Pipeline\n",
    "from sklearn.tree import DecisionTreeClassifier\n",
    "from sklearn.ensemble import RandomForestClassifier\n",
    "from sklearn.feature_extraction.text import CountVectorizer\n",
    "import pickle\n",
    "import warnings\n",
    "warnings.filterwarnings('ignore')"
   ]
  },
  {
   "cell_type": "code",
   "execution_count": 2,
   "id": "25e89742",
   "metadata": {},
   "outputs": [
    {
     "data": {
      "text/html": [
       "<div>\n",
       "<style scoped>\n",
       "    .dataframe tbody tr th:only-of-type {\n",
       "        vertical-align: middle;\n",
       "    }\n",
       "\n",
       "    .dataframe tbody tr th {\n",
       "        vertical-align: top;\n",
       "    }\n",
       "\n",
       "    .dataframe thead th {\n",
       "        text-align: right;\n",
       "    }\n",
       "</style>\n",
       "<table border=\"1\" class=\"dataframe\">\n",
       "  <thead>\n",
       "    <tr style=\"text-align: right;\">\n",
       "      <th></th>\n",
       "      <th>Rating</th>\n",
       "      <th>Review</th>\n",
       "    </tr>\n",
       "  </thead>\n",
       "  <tbody>\n",
       "    <tr>\n",
       "      <th>0</th>\n",
       "      <td>9</td>\n",
       "      <td>fan walk dead ever since first episode first s...</td>\n",
       "    </tr>\n",
       "    <tr>\n",
       "      <th>1</th>\n",
       "      <td>9</td>\n",
       "      <td>fan walk dead ever since first episode first s...</td>\n",
       "    </tr>\n",
       "    <tr>\n",
       "      <th>2</th>\n",
       "      <td>9</td>\n",
       "      <td>would put series top time despite last series ...</td>\n",
       "    </tr>\n",
       "    <tr>\n",
       "      <th>3</th>\n",
       "      <td>9</td>\n",
       "      <td>first thing say normally zombie movie series f...</td>\n",
       "    </tr>\n",
       "    <tr>\n",
       "      <th>4</th>\n",
       "      <td>9</td>\n",
       "      <td>everyone know walk dead good use early season ...</td>\n",
       "    </tr>\n",
       "  </tbody>\n",
       "</table>\n",
       "</div>"
      ],
      "text/plain": [
       "   Rating                                             Review\n",
       "0       9  fan walk dead ever since first episode first s...\n",
       "1       9  fan walk dead ever since first episode first s...\n",
       "2       9  would put series top time despite last series ...\n",
       "3       9  first thing say normally zombie movie series f...\n",
       "4       9  everyone know walk dead good use early season ..."
      ]
     },
     "execution_count": 2,
     "metadata": {},
     "output_type": "execute_result"
    }
   ],
   "source": [
    "df = pd.read_csv(\"Data/rev.csv\")\n",
    "df.head()"
   ]
  },
  {
   "cell_type": "code",
   "execution_count": 3,
   "id": "002edb81",
   "metadata": {},
   "outputs": [],
   "source": [
    "X = df[\"Review\"].values\n",
    "y = df[\"Rating\"].values"
   ]
  },
  {
   "cell_type": "code",
   "execution_count": 4,
   "id": "99878d10",
   "metadata": {},
   "outputs": [],
   "source": [
    "#Spliting of Dataset into tarining and testing datasets\n",
    "review_train, review_test, label_train, label_test = train_test_split(X, y, test_size=0.3, random_state=101)\n",
    "new = df[['Review','Rating']].copy()"
   ]
  },
  {
   "cell_type": "code",
   "execution_count": 5,
   "id": "699ee2fc",
   "metadata": {},
   "outputs": [
    {
     "name": "stdout",
     "output_type": "stream",
     "text": [
      "              precision    recall  f1-score   support\n",
      "\n",
      "           1       0.00      0.00      0.00       973\n",
      "           2       0.00      0.00      0.00       496\n",
      "           3       0.00      0.00      0.00       631\n",
      "           4       0.00      0.00      0.00       709\n",
      "           5       0.00      0.00      0.00       908\n",
      "           6       0.00      0.00      0.00      1214\n",
      "           7       0.00      0.00      0.00      2028\n",
      "           8       0.23      0.24      0.24      2923\n",
      "           9       0.00      0.00      0.00      2440\n",
      "          10       0.22      0.83      0.34      3303\n",
      "\n",
      "    accuracy                           0.22     15625\n",
      "   macro avg       0.04      0.11      0.06     15625\n",
      "weighted avg       0.09      0.22      0.12     15625\n",
      "\n"
     ]
    }
   ],
   "source": [
    "#Applying bag of words Text Feature Extraction with Pipeline using countvectorizer, and classifer - LogisticRegression\n",
    "pipeline1 = Pipeline([\n",
    "    ('bag_of_words', CountVectorizer()),\n",
    "    ('classifier', LogisticRegression(solver='newton-cg', multi_class='multinomial'))\n",
    "])\n",
    "\n",
    "pipeline1.fit(review_train, label_train)\n",
    "pip_pred1 = pipeline1.predict(review_test)\n",
    "print(metrics.classification_report(label_test,pip_pred1))\n",
    "\n",
    "filename = 'model_lr.pk'\n",
    "with open('Models/'+filename, 'wb') as file:\n",
    "    pickle.dump(pipeline1, file) "
   ]
  },
  {
   "cell_type": "code",
   "execution_count": 6,
   "id": "096848a3",
   "metadata": {},
   "outputs": [
    {
     "name": "stdout",
     "output_type": "stream",
     "text": [
      "              precision    recall  f1-score   support\n",
      "\n",
      "           1       0.10      0.38      0.16       973\n",
      "           2       0.03      0.04      0.04       496\n",
      "           3       0.04      0.11      0.06       631\n",
      "           4       0.05      0.05      0.05       709\n",
      "           5       0.07      0.05      0.06       908\n",
      "           6       0.00      0.00      0.00      1214\n",
      "           7       0.16      0.10      0.12      2028\n",
      "           8       0.22      0.23      0.23      2923\n",
      "           9       0.18      0.04      0.07      2440\n",
      "          10       0.22      0.21      0.22      3303\n",
      "\n",
      "    accuracy                           0.14     15625\n",
      "   macro avg       0.11      0.12      0.10     15625\n",
      "weighted avg       0.15      0.14      0.13     15625\n",
      "\n"
     ]
    }
   ],
   "source": [
    "#Applying bag of words Text Feature Extraction with Pipeline using countvectorizer, and classifer - MultinomialNB\n",
    "pipeline2 = Pipeline([\n",
    "    ('bag_of_words', CountVectorizer()),\n",
    "    ('classifier', MultinomialNB())\n",
    "])\n",
    "pipeline2.fit(review_train, label_train)\n",
    "pip_pred2 = pipeline2.predict(review_test)\n",
    "print(metrics.classification_report(label_test, pip_pred2))\n",
    "\n",
    "filename = 'model_mnb.pk'\n",
    "with open('Models/'+filename, 'wb') as file:\n",
    "    pickle.dump(pipeline2, file) "
   ]
  },
  {
   "cell_type": "code",
   "execution_count": 7,
   "id": "2592889d",
   "metadata": {},
   "outputs": [
    {
     "name": "stdout",
     "output_type": "stream",
     "text": [
      "              precision    recall  f1-score   support\n",
      "\n",
      "           1       0.00      0.00      0.00       973\n",
      "           2       0.00      0.00      0.00       496\n",
      "           3       0.00      0.00      0.00       631\n",
      "           4       0.00      0.00      0.00       709\n",
      "           5       0.00      0.00      0.00       908\n",
      "           6       0.00      0.00      0.00      1214\n",
      "           7       0.00      0.00      0.00      2028\n",
      "           8       0.23      0.24      0.24      2923\n",
      "           9       0.00      0.00      0.00      2440\n",
      "          10       0.22      0.83      0.34      3303\n",
      "\n",
      "    accuracy                           0.22     15625\n",
      "   macro avg       0.04      0.11      0.06     15625\n",
      "weighted avg       0.09      0.22      0.12     15625\n",
      "\n"
     ]
    }
   ],
   "source": [
    "#Applying bag of words Text Feature Extraction with Pipeline using countvectorizer, and classifer - DecisionTreeClassifier\n",
    "pipeline3 = Pipeline([\n",
    "    ('bag_of_words', CountVectorizer()),\n",
    "    ('classifier', DecisionTreeClassifier())\n",
    "])\n",
    "\n",
    "pipeline3.fit(review_train, label_train)\n",
    "pip_pred3 = pipeline3.predict(review_test)\n",
    "print(metrics.classification_report(label_test, pip_pred3))\n",
    "\n",
    "filename = 'model_dt.pk'\n",
    "with open('Models/'+filename, 'wb') as file:\n",
    "    pickle.dump(pipeline3, file) "
   ]
  },
  {
   "cell_type": "code",
   "execution_count": 8,
   "id": "8370710f",
   "metadata": {},
   "outputs": [
    {
     "name": "stdout",
     "output_type": "stream",
     "text": [
      "              precision    recall  f1-score   support\n",
      "\n",
      "           1       0.00      0.00      0.00       973\n",
      "           2       0.00      0.00      0.00       496\n",
      "           3       0.00      0.00      0.00       631\n",
      "           4       0.00      0.00      0.00       709\n",
      "           5       0.00      0.00      0.00       908\n",
      "           6       0.00      0.00      0.00      1214\n",
      "           7       0.00      0.00      0.00      2028\n",
      "           8       0.23      0.24      0.24      2923\n",
      "           9       0.00      0.00      0.00      2440\n",
      "          10       0.22      0.83      0.34      3303\n",
      "\n",
      "    accuracy                           0.22     15625\n",
      "   macro avg       0.04      0.11      0.06     15625\n",
      "weighted avg       0.09      0.22      0.12     15625\n",
      "\n"
     ]
    }
   ],
   "source": [
    "#Applying bag of words Text Feature Extraction with Pipeline using countvectorizer, and classifer - RandomForestClassifier\n",
    "pipeline4 = Pipeline([\n",
    "    ('bag_of_words', CountVectorizer()),\n",
    "    ('classifier', RandomForestClassifier())\n",
    "])\n",
    "\n",
    "pipeline4.fit(review_train, label_train)\n",
    "pip_pred4 = pipeline4.predict(review_test)\n",
    "print(metrics.classification_report(label_test, pip_pred4))\n",
    "\n",
    "filename = 'model_rf.pk'\n",
    "with open('Models/'+filename, 'wb') as file:\n",
    "    pickle.dump(pipeline4, file) "
   ]
  }
 ],
 "metadata": {
  "kernelspec": {
   "display_name": "Python 3 (ipykernel)",
   "language": "python",
   "name": "python3"
  },
  "language_info": {
   "codemirror_mode": {
    "name": "ipython",
    "version": 3
   },
   "file_extension": ".py",
   "mimetype": "text/x-python",
   "name": "python",
   "nbconvert_exporter": "python",
   "pygments_lexer": "ipython3",
   "version": "3.9.12"
  }
 },
 "nbformat": 4,
 "nbformat_minor": 5
}
