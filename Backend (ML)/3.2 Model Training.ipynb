{
 "cells": [
  {
   "cell_type": "code",
   "execution_count": 1,
   "id": "c1883600",
   "metadata": {},
   "outputs": [],
   "source": [
    "import pandas as pd\n",
    "import numpy as np\n",
    "import warnings\n",
    "warnings.filterwarnings('ignore')\n",
    "from sklearn.model_selection import train_test_split\n",
    "from sklearn.feature_extraction.text import TfidfVectorizer\n",
    "from sklearn.svm import SVC\n",
    "from sklearn.metrics import accuracy_score\n",
    "from sklearn.naive_bayes import MultinomialNB\n",
    "import pickle"
   ]
  },
  {
   "cell_type": "code",
   "execution_count": 2,
   "id": "deb78838",
   "metadata": {},
   "outputs": [
    {
     "data": {
      "text/html": [
       "<div>\n",
       "<style scoped>\n",
       "    .dataframe tbody tr th:only-of-type {\n",
       "        vertical-align: middle;\n",
       "    }\n",
       "\n",
       "    .dataframe tbody tr th {\n",
       "        vertical-align: top;\n",
       "    }\n",
       "\n",
       "    .dataframe thead th {\n",
       "        text-align: right;\n",
       "    }\n",
       "</style>\n",
       "<table border=\"1\" class=\"dataframe\">\n",
       "  <thead>\n",
       "    <tr style=\"text-align: right;\">\n",
       "      <th></th>\n",
       "      <th>Title</th>\n",
       "      <th>Genre</th>\n",
       "      <th>Synopsis</th>\n",
       "    </tr>\n",
       "  </thead>\n",
       "  <tbody>\n",
       "    <tr>\n",
       "      <th>0</th>\n",
       "      <td>John Wick: Chapter 2</td>\n",
       "      <td>Action</td>\n",
       "      <td>['after returning to the criminal underworld t...</td>\n",
       "    </tr>\n",
       "    <tr>\n",
       "      <th>1</th>\n",
       "      <td>John Wick: Chapter 2</td>\n",
       "      <td>Crime</td>\n",
       "      <td>['after returning to the criminal underworld t...</td>\n",
       "    </tr>\n",
       "    <tr>\n",
       "      <th>2</th>\n",
       "      <td>John Wick: Chapter 2</td>\n",
       "      <td>Thriller</td>\n",
       "      <td>['after returning to the criminal underworld t...</td>\n",
       "    </tr>\n",
       "    <tr>\n",
       "      <th>3</th>\n",
       "      <td>FBI: Most Wanted</td>\n",
       "      <td>Action</td>\n",
       "      <td>['it follows the division of the fbi tasked wi...</td>\n",
       "    </tr>\n",
       "    <tr>\n",
       "      <th>4</th>\n",
       "      <td>FBI: Most Wanted</td>\n",
       "      <td>Crime</td>\n",
       "      <td>['it follows the division of the fbi tasked wi...</td>\n",
       "    </tr>\n",
       "  </tbody>\n",
       "</table>\n",
       "</div>"
      ],
      "text/plain": [
       "                  Title     Genre  \\\n",
       "0  John Wick: Chapter 2    Action   \n",
       "1  John Wick: Chapter 2     Crime   \n",
       "2  John Wick: Chapter 2  Thriller   \n",
       "3      FBI: Most Wanted    Action   \n",
       "4      FBI: Most Wanted     Crime   \n",
       "\n",
       "                                            Synopsis  \n",
       "0  ['after returning to the criminal underworld t...  \n",
       "1  ['after returning to the criminal underworld t...  \n",
       "2  ['after returning to the criminal underworld t...  \n",
       "3  ['it follows the division of the fbi tasked wi...  \n",
       "4  ['it follows the division of the fbi tasked wi...  "
      ]
     },
     "execution_count": 2,
     "metadata": {},
     "output_type": "execute_result"
    }
   ],
   "source": [
    "df = pd.read_csv(\"Data/cleaned.csv\")\n",
    "df.head()"
   ]
  },
  {
   "cell_type": "code",
   "execution_count": 3,
   "id": "ba170c13",
   "metadata": {},
   "outputs": [],
   "source": [
    "x_train, x_test, y_train, y_test = train_test_split(df['Synopsis'].values, df['Genre'].values, test_size = 0.2, random_state = 0)"
   ]
  },
  {
   "cell_type": "code",
   "execution_count": 4,
   "id": "40fab870",
   "metadata": {},
   "outputs": [],
   "source": [
    "vectorizer = TfidfVectorizer()\n",
    "f = vectorizer.fit_transform(x_train)\n",
    "ft = vectorizer.transform(x_test)"
   ]
  },
  {
   "cell_type": "code",
   "execution_count": 5,
   "id": "de97ed76",
   "metadata": {},
   "outputs": [],
   "source": [
    "svm_model = SVC()     \n",
    "SVC(C=1.0, break_ties=False, cache_size=200, class_weight=None, coef0=0.0,\n",
    "    decision_function_shape='ovr', degree=3, gamma='scale', kernel='rbf',\n",
    "    max_iter=-1, probability=False, random_state=None, shrinking=True,\n",
    "    tol=0.001, verbose=False)\n",
    "\n",
    "svm_model.fit(f, y_train)\n",
    "filename = 'Models/model_svm.sav'\n",
    "pickle.dump(svm_model, open(filename, 'wb'))"
   ]
  },
  {
   "cell_type": "code",
   "execution_count": 6,
   "id": "c244b397",
   "metadata": {},
   "outputs": [],
   "source": [
    "mnb_model = MultinomialNB()\n",
    "MultinomialNB(alpha=1.0, class_prior=None, fit_prior=True)\n",
    "\n",
    "mnb_model.fit(f, y_train)\n",
    "filename = 'Models/model_mnb.sav'\n",
    "pickle.dump(mnb_model, open(filename, 'wb'))"
   ]
  },
  {
   "cell_type": "code",
   "execution_count": 7,
   "id": "227d3fb4",
   "metadata": {},
   "outputs": [
    {
     "name": "stdout",
     "output_type": "stream",
     "text": [
      "Accuracy score for alpha=0.1 is: 10.08%\n",
      "Accuracy score for alpha=0.2 is: 14.19%\n",
      "Accuracy score for alpha=0.3 is: 16.86%\n",
      "Accuracy score for alpha=0.4 is: 19.07%\n",
      "Accuracy score for alpha=0.5 is: 20.27%\n",
      "Accuracy score for alpha=0.6 is: 21.29%\n",
      "Accuracy score for alpha=0.7 is: 21.69%\n",
      "Accuracy score for alpha=0.8 is: 22.07%\n",
      "Accuracy score for alpha=0.9 is: 22.31%\n",
      "Accuracy score for alpha=1.0 is: 22.53%\n",
      "--------------------------------------------\n",
      "The best accuracy is 22.53% with alpha value as 1.0\n"
     ]
    }
   ],
   "source": [
    "# Hyperparameter tuning the Naive Bayes Classifier\n",
    "best_accuracy = 0.0\n",
    "alpha_val = 0.0\n",
    "for i in np.arange(0.1,1.1,0.1):\n",
    "    temp_classifier = MultinomialNB(alpha=i)\n",
    "    temp_classifier.fit(f, y_train)\n",
    "    temp_y_pred = temp_classifier.predict(ft)\n",
    "    score = accuracy_score(y_test, temp_y_pred)\n",
    "    print(\"Accuracy score for alpha={} is: {}%\".format(round(i,1), round(score*100,2)))\n",
    "    if score>best_accuracy:\n",
    "        best_accuracy = score\n",
    "        alpha_val = i\n",
    "print('--------------------------------------------')\n",
    "print('The best accuracy is {}% with alpha value as {}'.format(round(best_accuracy*100, 2), round(alpha_val,1)))"
   ]
  }
 ],
 "metadata": {
  "kernelspec": {
   "display_name": "Python 3 (ipykernel)",
   "language": "python",
   "name": "python3"
  },
  "language_info": {
   "codemirror_mode": {
    "name": "ipython",
    "version": 3
   },
   "file_extension": ".py",
   "mimetype": "text/x-python",
   "name": "python",
   "nbconvert_exporter": "python",
   "pygments_lexer": "ipython3",
   "version": "3.9.12"
  }
 },
 "nbformat": 4,
 "nbformat_minor": 5
}
